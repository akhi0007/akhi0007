{
  "nbformat": 4,
  "nbformat_minor": 0,
  "metadata": {
    "colab": {
      "provenance": [],
      "gpuType": "T4"
    },
    "kernelspec": {
      "name": "python3",
      "display_name": "Python 3"
    },
    "language_info": {
      "name": "python"
    },
    "accelerator": "GPU"
  },
  "cells": [
    {
      "cell_type": "markdown",
      "source": [
        "# Breast Cancer Detection"
      ],
      "metadata": {
        "id": "xPJ74NN2lXbJ"
      }
    },
    {
      "cell_type": "code",
      "source": [
        "from google.colab import drive\n",
        "drive.mount('/content/drive')"
      ],
      "metadata": {
        "id": "3kWePsoNfnCv"
      },
      "execution_count": null,
      "outputs": []
    },
    {
      "cell_type": "code",
      "source": [
        "import pandas as pd\n",
        "from matplotlib import pyplot as plt\n",
        "import seaborn as sns\n",
        "import numpy as np"
      ],
      "metadata": {
        "id": "h-5PlL4QlaI9"
      },
      "execution_count": null,
      "outputs": []
    },
    {
      "cell_type": "code",
      "source": [
        "df = pd.read_csv(\"/content/training_data.csv\")\n",
        "df = df.dropna(how='all', axis='columns')"
      ],
      "metadata": {
        "id": "elxc86P6lkoR"
      },
      "execution_count": null,
      "outputs": []
    },
    {
      "cell_type": "code",
      "source": [
        "print(df.describe().T)"
      ],
      "metadata": {
        "id": "6HBTVXGolwxF",
        "colab": {
          "base_uri": "https://localhost:8080/"
        },
        "outputId": "d3eeed6d-7c6f-4634-b0be-d2a4f20cf811"
      },
      "execution_count": null,
      "outputs": [
        {
          "output_type": "stream",
          "name": "stdout",
          "text": [
            "                         count          mean           std          min  \\\n",
            "id                       569.0  3.037183e+07  1.250206e+08  8670.000000   \n",
            "radius_mean              569.0  1.412729e+01  3.524049e+00     6.981000   \n",
            "texture_mean             569.0  1.928965e+01  4.301036e+00     9.710000   \n",
            "perimeter_mean           569.0  9.196903e+01  2.429898e+01    43.790000   \n",
            "area_mean                569.0  6.548891e+02  3.519141e+02   143.500000   \n",
            "smoothness_mean          569.0  9.636028e-02  1.406413e-02     0.052630   \n",
            "compactness_mean         569.0  1.043410e-01  5.281276e-02     0.019380   \n",
            "concavity_mean           569.0  8.879932e-02  7.971981e-02     0.000000   \n",
            "concave points_mean      569.0  4.891915e-02  3.880284e-02     0.000000   \n",
            "symmetry_mean            569.0  1.811619e-01  2.741428e-02     0.106000   \n",
            "fractal_dimension_mean   569.0  6.279761e-02  7.060363e-03     0.049960   \n",
            "radius_se                569.0  4.051721e-01  2.773127e-01     0.111500   \n",
            "texture_se               569.0  1.216853e+00  5.516484e-01     0.360200   \n",
            "perimeter_se             569.0  2.866059e+00  2.021855e+00     0.757000   \n",
            "area_se                  569.0  4.033708e+01  4.549101e+01     6.802000   \n",
            "smoothness_se            569.0  7.040979e-03  3.002518e-03     0.001713   \n",
            "compactness_se           569.0  2.547814e-02  1.790818e-02     0.002252   \n",
            "concavity_se             569.0  3.189372e-02  3.018606e-02     0.000000   \n",
            "concave points_se        569.0  1.179614e-02  6.170285e-03     0.000000   \n",
            "symmetry_se              569.0  2.054230e-02  8.266372e-03     0.007882   \n",
            "fractal_dimension_se     569.0  3.794904e-03  2.646071e-03     0.000895   \n",
            "radius_worst             569.0  1.626919e+01  4.833242e+00     7.930000   \n",
            "texture_worst            569.0  2.567722e+01  6.146258e+00    12.020000   \n",
            "perimeter_worst          569.0  1.072612e+02  3.360254e+01    50.410000   \n",
            "area_worst               569.0  8.805831e+02  5.693570e+02   185.200000   \n",
            "smoothness_worst         569.0  1.323686e-01  2.283243e-02     0.071170   \n",
            "compactness_worst        569.0  2.542650e-01  1.573365e-01     0.027290   \n",
            "concavity_worst          569.0  2.721885e-01  2.086243e-01     0.000000   \n",
            "concave points_worst     569.0  1.146062e-01  6.573234e-02     0.000000   \n",
            "symmetry_worst           569.0  2.900756e-01  6.186747e-02     0.156500   \n",
            "fractal_dimension_worst  569.0  8.394582e-02  1.806127e-02     0.055040   \n",
            "\n",
            "                                   25%            50%           75%  \\\n",
            "id                       869218.000000  906024.000000  8.813129e+06   \n",
            "radius_mean                  11.700000      13.370000  1.578000e+01   \n",
            "texture_mean                 16.170000      18.840000  2.180000e+01   \n",
            "perimeter_mean               75.170000      86.240000  1.041000e+02   \n",
            "area_mean                   420.300000     551.100000  7.827000e+02   \n",
            "smoothness_mean               0.086370       0.095870  1.053000e-01   \n",
            "compactness_mean              0.064920       0.092630  1.304000e-01   \n",
            "concavity_mean                0.029560       0.061540  1.307000e-01   \n",
            "concave points_mean           0.020310       0.033500  7.400000e-02   \n",
            "symmetry_mean                 0.161900       0.179200  1.957000e-01   \n",
            "fractal_dimension_mean        0.057700       0.061540  6.612000e-02   \n",
            "radius_se                     0.232400       0.324200  4.789000e-01   \n",
            "texture_se                    0.833900       1.108000  1.474000e+00   \n",
            "perimeter_se                  1.606000       2.287000  3.357000e+00   \n",
            "area_se                      17.850000      24.530000  4.519000e+01   \n",
            "smoothness_se                 0.005169       0.006380  8.146000e-03   \n",
            "compactness_se                0.013080       0.020450  3.245000e-02   \n",
            "concavity_se                  0.015090       0.025890  4.205000e-02   \n",
            "concave points_se             0.007638       0.010930  1.471000e-02   \n",
            "symmetry_se                   0.015160       0.018730  2.348000e-02   \n",
            "fractal_dimension_se          0.002248       0.003187  4.558000e-03   \n",
            "radius_worst                 13.010000      14.970000  1.879000e+01   \n",
            "texture_worst                21.080000      25.410000  2.972000e+01   \n",
            "perimeter_worst              84.110000      97.660000  1.254000e+02   \n",
            "area_worst                  515.300000     686.500000  1.084000e+03   \n",
            "smoothness_worst              0.116600       0.131300  1.460000e-01   \n",
            "compactness_worst             0.147200       0.211900  3.391000e-01   \n",
            "concavity_worst               0.114500       0.226700  3.829000e-01   \n",
            "concave points_worst          0.064930       0.099930  1.614000e-01   \n",
            "symmetry_worst                0.250400       0.282200  3.179000e-01   \n",
            "fractal_dimension_worst       0.071460       0.080040  9.208000e-02   \n",
            "\n",
            "                                  max  \n",
            "id                       9.113205e+08  \n",
            "radius_mean              2.811000e+01  \n",
            "texture_mean             3.928000e+01  \n",
            "perimeter_mean           1.885000e+02  \n",
            "area_mean                2.501000e+03  \n",
            "smoothness_mean          1.634000e-01  \n",
            "compactness_mean         3.454000e-01  \n",
            "concavity_mean           4.268000e-01  \n",
            "concave points_mean      2.012000e-01  \n",
            "symmetry_mean            3.040000e-01  \n",
            "fractal_dimension_mean   9.744000e-02  \n",
            "radius_se                2.873000e+00  \n",
            "texture_se               4.885000e+00  \n",
            "perimeter_se             2.198000e+01  \n",
            "area_se                  5.422000e+02  \n",
            "smoothness_se            3.113000e-02  \n",
            "compactness_se           1.354000e-01  \n",
            "concavity_se             3.960000e-01  \n",
            "concave points_se        5.279000e-02  \n",
            "symmetry_se              7.895000e-02  \n",
            "fractal_dimension_se     2.984000e-02  \n",
            "radius_worst             3.604000e+01  \n",
            "texture_worst            4.954000e+01  \n",
            "perimeter_worst          2.512000e+02  \n",
            "area_worst               4.254000e+03  \n",
            "smoothness_worst         2.226000e-01  \n",
            "compactness_worst        1.058000e+00  \n",
            "concavity_worst          1.252000e+00  \n",
            "concave points_worst     2.910000e-01  \n",
            "symmetry_worst           6.638000e-01  \n",
            "fractal_dimension_worst  2.075000e-01  \n"
          ]
        }
      ]
    },
    {
      "cell_type": "markdown",
      "source": [
        "# New Section"
      ],
      "metadata": {
        "id": "HAxYBMVxfQjK"
      }
    },
    {
      "cell_type": "code",
      "source": [
        "df.head()"
      ],
      "metadata": {
        "id": "Ga99ZhxDl3qz",
        "colab": {
          "base_uri": "https://localhost:8080/",
          "height": 273
        },
        "outputId": "a1e105b4-c821-4f8e-d2a7-e6960ff0d237"
      },
      "execution_count": null,
      "outputs": [
        {
          "output_type": "execute_result",
          "data": {
            "text/plain": [
              "         id diagnosis  radius_mean  texture_mean  perimeter_mean  area_mean  \\\n",
              "0    842302         M        17.99         10.38          122.80     1001.0   \n",
              "1    842517         M        20.57         17.77          132.90     1326.0   \n",
              "2  84300903         M        19.69         21.25          130.00     1203.0   \n",
              "3  84348301         M        11.42         20.38           77.58      386.1   \n",
              "4  84358402         M        20.29         14.34          135.10     1297.0   \n",
              "\n",
              "   smoothness_mean  compactness_mean  concavity_mean  concave points_mean  \\\n",
              "0          0.11840           0.27760          0.3001              0.14710   \n",
              "1          0.08474           0.07864          0.0869              0.07017   \n",
              "2          0.10960           0.15990          0.1974              0.12790   \n",
              "3          0.14250           0.28390          0.2414              0.10520   \n",
              "4          0.10030           0.13280          0.1980              0.10430   \n",
              "\n",
              "   ...  radius_worst  texture_worst  perimeter_worst  area_worst  \\\n",
              "0  ...         25.38          17.33           184.60      2019.0   \n",
              "1  ...         24.99          23.41           158.80      1956.0   \n",
              "2  ...         23.57          25.53           152.50      1709.0   \n",
              "3  ...         14.91          26.50            98.87       567.7   \n",
              "4  ...         22.54          16.67           152.20      1575.0   \n",
              "\n",
              "   smoothness_worst  compactness_worst  concavity_worst  concave points_worst  \\\n",
              "0            0.1622             0.6656           0.7119                0.2654   \n",
              "1            0.1238             0.1866           0.2416                0.1860   \n",
              "2            0.1444             0.4245           0.4504                0.2430   \n",
              "3            0.2098             0.8663           0.6869                0.2575   \n",
              "4            0.1374             0.2050           0.4000                0.1625   \n",
              "\n",
              "   symmetry_worst  fractal_dimension_worst  \n",
              "0          0.4601                  0.11890  \n",
              "1          0.2750                  0.08902  \n",
              "2          0.3613                  0.08758  \n",
              "3          0.6638                  0.17300  \n",
              "4          0.2364                  0.07678  \n",
              "\n",
              "[5 rows x 32 columns]"
            ],
            "text/html": [
              "\n",
              "  <div id=\"df-4605089a-897a-4a35-9c8c-72241fe8011a\" class=\"colab-df-container\">\n",
              "    <div>\n",
              "<style scoped>\n",
              "    .dataframe tbody tr th:only-of-type {\n",
              "        vertical-align: middle;\n",
              "    }\n",
              "\n",
              "    .dataframe tbody tr th {\n",
              "        vertical-align: top;\n",
              "    }\n",
              "\n",
              "    .dataframe thead th {\n",
              "        text-align: right;\n",
              "    }\n",
              "</style>\n",
              "<table border=\"1\" class=\"dataframe\">\n",
              "  <thead>\n",
              "    <tr style=\"text-align: right;\">\n",
              "      <th></th>\n",
              "      <th>id</th>\n",
              "      <th>diagnosis</th>\n",
              "      <th>radius_mean</th>\n",
              "      <th>texture_mean</th>\n",
              "      <th>perimeter_mean</th>\n",
              "      <th>area_mean</th>\n",
              "      <th>smoothness_mean</th>\n",
              "      <th>compactness_mean</th>\n",
              "      <th>concavity_mean</th>\n",
              "      <th>concave points_mean</th>\n",
              "      <th>...</th>\n",
              "      <th>radius_worst</th>\n",
              "      <th>texture_worst</th>\n",
              "      <th>perimeter_worst</th>\n",
              "      <th>area_worst</th>\n",
              "      <th>smoothness_worst</th>\n",
              "      <th>compactness_worst</th>\n",
              "      <th>concavity_worst</th>\n",
              "      <th>concave points_worst</th>\n",
              "      <th>symmetry_worst</th>\n",
              "      <th>fractal_dimension_worst</th>\n",
              "    </tr>\n",
              "  </thead>\n",
              "  <tbody>\n",
              "    <tr>\n",
              "      <th>0</th>\n",
              "      <td>842302</td>\n",
              "      <td>M</td>\n",
              "      <td>17.99</td>\n",
              "      <td>10.38</td>\n",
              "      <td>122.80</td>\n",
              "      <td>1001.0</td>\n",
              "      <td>0.11840</td>\n",
              "      <td>0.27760</td>\n",
              "      <td>0.3001</td>\n",
              "      <td>0.14710</td>\n",
              "      <td>...</td>\n",
              "      <td>25.38</td>\n",
              "      <td>17.33</td>\n",
              "      <td>184.60</td>\n",
              "      <td>2019.0</td>\n",
              "      <td>0.1622</td>\n",
              "      <td>0.6656</td>\n",
              "      <td>0.7119</td>\n",
              "      <td>0.2654</td>\n",
              "      <td>0.4601</td>\n",
              "      <td>0.11890</td>\n",
              "    </tr>\n",
              "    <tr>\n",
              "      <th>1</th>\n",
              "      <td>842517</td>\n",
              "      <td>M</td>\n",
              "      <td>20.57</td>\n",
              "      <td>17.77</td>\n",
              "      <td>132.90</td>\n",
              "      <td>1326.0</td>\n",
              "      <td>0.08474</td>\n",
              "      <td>0.07864</td>\n",
              "      <td>0.0869</td>\n",
              "      <td>0.07017</td>\n",
              "      <td>...</td>\n",
              "      <td>24.99</td>\n",
              "      <td>23.41</td>\n",
              "      <td>158.80</td>\n",
              "      <td>1956.0</td>\n",
              "      <td>0.1238</td>\n",
              "      <td>0.1866</td>\n",
              "      <td>0.2416</td>\n",
              "      <td>0.1860</td>\n",
              "      <td>0.2750</td>\n",
              "      <td>0.08902</td>\n",
              "    </tr>\n",
              "    <tr>\n",
              "      <th>2</th>\n",
              "      <td>84300903</td>\n",
              "      <td>M</td>\n",
              "      <td>19.69</td>\n",
              "      <td>21.25</td>\n",
              "      <td>130.00</td>\n",
              "      <td>1203.0</td>\n",
              "      <td>0.10960</td>\n",
              "      <td>0.15990</td>\n",
              "      <td>0.1974</td>\n",
              "      <td>0.12790</td>\n",
              "      <td>...</td>\n",
              "      <td>23.57</td>\n",
              "      <td>25.53</td>\n",
              "      <td>152.50</td>\n",
              "      <td>1709.0</td>\n",
              "      <td>0.1444</td>\n",
              "      <td>0.4245</td>\n",
              "      <td>0.4504</td>\n",
              "      <td>0.2430</td>\n",
              "      <td>0.3613</td>\n",
              "      <td>0.08758</td>\n",
              "    </tr>\n",
              "    <tr>\n",
              "      <th>3</th>\n",
              "      <td>84348301</td>\n",
              "      <td>M</td>\n",
              "      <td>11.42</td>\n",
              "      <td>20.38</td>\n",
              "      <td>77.58</td>\n",
              "      <td>386.1</td>\n",
              "      <td>0.14250</td>\n",
              "      <td>0.28390</td>\n",
              "      <td>0.2414</td>\n",
              "      <td>0.10520</td>\n",
              "      <td>...</td>\n",
              "      <td>14.91</td>\n",
              "      <td>26.50</td>\n",
              "      <td>98.87</td>\n",
              "      <td>567.7</td>\n",
              "      <td>0.2098</td>\n",
              "      <td>0.8663</td>\n",
              "      <td>0.6869</td>\n",
              "      <td>0.2575</td>\n",
              "      <td>0.6638</td>\n",
              "      <td>0.17300</td>\n",
              "    </tr>\n",
              "    <tr>\n",
              "      <th>4</th>\n",
              "      <td>84358402</td>\n",
              "      <td>M</td>\n",
              "      <td>20.29</td>\n",
              "      <td>14.34</td>\n",
              "      <td>135.10</td>\n",
              "      <td>1297.0</td>\n",
              "      <td>0.10030</td>\n",
              "      <td>0.13280</td>\n",
              "      <td>0.1980</td>\n",
              "      <td>0.10430</td>\n",
              "      <td>...</td>\n",
              "      <td>22.54</td>\n",
              "      <td>16.67</td>\n",
              "      <td>152.20</td>\n",
              "      <td>1575.0</td>\n",
              "      <td>0.1374</td>\n",
              "      <td>0.2050</td>\n",
              "      <td>0.4000</td>\n",
              "      <td>0.1625</td>\n",
              "      <td>0.2364</td>\n",
              "      <td>0.07678</td>\n",
              "    </tr>\n",
              "  </tbody>\n",
              "</table>\n",
              "<p>5 rows × 32 columns</p>\n",
              "</div>\n",
              "    <div class=\"colab-df-buttons\">\n",
              "\n",
              "  <div class=\"colab-df-container\">\n",
              "    <button class=\"colab-df-convert\" onclick=\"convertToInteractive('df-4605089a-897a-4a35-9c8c-72241fe8011a')\"\n",
              "            title=\"Convert this dataframe to an interactive table.\"\n",
              "            style=\"display:none;\">\n",
              "\n",
              "  <svg xmlns=\"http://www.w3.org/2000/svg\" height=\"24px\" viewBox=\"0 -960 960 960\">\n",
              "    <path d=\"M120-120v-720h720v720H120Zm60-500h600v-160H180v160Zm220 220h160v-160H400v160Zm0 220h160v-160H400v160ZM180-400h160v-160H180v160Zm440 0h160v-160H620v160ZM180-180h160v-160H180v160Zm440 0h160v-160H620v160Z\"/>\n",
              "  </svg>\n",
              "    </button>\n",
              "\n",
              "  <style>\n",
              "    .colab-df-container {\n",
              "      display:flex;\n",
              "      gap: 12px;\n",
              "    }\n",
              "\n",
              "    .colab-df-convert {\n",
              "      background-color: #E8F0FE;\n",
              "      border: none;\n",
              "      border-radius: 50%;\n",
              "      cursor: pointer;\n",
              "      display: none;\n",
              "      fill: #1967D2;\n",
              "      height: 32px;\n",
              "      padding: 0 0 0 0;\n",
              "      width: 32px;\n",
              "    }\n",
              "\n",
              "    .colab-df-convert:hover {\n",
              "      background-color: #E2EBFA;\n",
              "      box-shadow: 0px 1px 2px rgba(60, 64, 67, 0.3), 0px 1px 3px 1px rgba(60, 64, 67, 0.15);\n",
              "      fill: #174EA6;\n",
              "    }\n",
              "\n",
              "    .colab-df-buttons div {\n",
              "      margin-bottom: 4px;\n",
              "    }\n",
              "\n",
              "    [theme=dark] .colab-df-convert {\n",
              "      background-color: #3B4455;\n",
              "      fill: #D2E3FC;\n",
              "    }\n",
              "\n",
              "    [theme=dark] .colab-df-convert:hover {\n",
              "      background-color: #434B5C;\n",
              "      box-shadow: 0px 1px 3px 1px rgba(0, 0, 0, 0.15);\n",
              "      filter: drop-shadow(0px 1px 2px rgba(0, 0, 0, 0.3));\n",
              "      fill: #FFFFFF;\n",
              "    }\n",
              "  </style>\n",
              "\n",
              "    <script>\n",
              "      const buttonEl =\n",
              "        document.querySelector('#df-4605089a-897a-4a35-9c8c-72241fe8011a button.colab-df-convert');\n",
              "      buttonEl.style.display =\n",
              "        google.colab.kernel.accessAllowed ? 'block' : 'none';\n",
              "\n",
              "      async function convertToInteractive(key) {\n",
              "        const element = document.querySelector('#df-4605089a-897a-4a35-9c8c-72241fe8011a');\n",
              "        const dataTable =\n",
              "          await google.colab.kernel.invokeFunction('convertToInteractive',\n",
              "                                                    [key], {});\n",
              "        if (!dataTable) return;\n",
              "\n",
              "        const docLinkHtml = 'Like what you see? Visit the ' +\n",
              "          '<a target=\"_blank\" href=https://colab.research.google.com/notebooks/data_table.ipynb>data table notebook</a>'\n",
              "          + ' to learn more about interactive tables.';\n",
              "        element.innerHTML = '';\n",
              "        dataTable['output_type'] = 'display_data';\n",
              "        await google.colab.output.renderOutput(dataTable, element);\n",
              "        const docLink = document.createElement('div');\n",
              "        docLink.innerHTML = docLinkHtml;\n",
              "        element.appendChild(docLink);\n",
              "      }\n",
              "    </script>\n",
              "  </div>\n",
              "\n",
              "\n",
              "<div id=\"df-c2ec6995-f667-481a-ad52-f2de6ff2364c\">\n",
              "  <button class=\"colab-df-quickchart\" onclick=\"quickchart('df-c2ec6995-f667-481a-ad52-f2de6ff2364c')\"\n",
              "            title=\"Suggest charts\"\n",
              "            style=\"display:none;\">\n",
              "\n",
              "<svg xmlns=\"http://www.w3.org/2000/svg\" height=\"24px\"viewBox=\"0 0 24 24\"\n",
              "     width=\"24px\">\n",
              "    <g>\n",
              "        <path d=\"M19 3H5c-1.1 0-2 .9-2 2v14c0 1.1.9 2 2 2h14c1.1 0 2-.9 2-2V5c0-1.1-.9-2-2-2zM9 17H7v-7h2v7zm4 0h-2V7h2v10zm4 0h-2v-4h2v4z\"/>\n",
              "    </g>\n",
              "</svg>\n",
              "  </button>\n",
              "\n",
              "<style>\n",
              "  .colab-df-quickchart {\n",
              "      --bg-color: #E8F0FE;\n",
              "      --fill-color: #1967D2;\n",
              "      --hover-bg-color: #E2EBFA;\n",
              "      --hover-fill-color: #174EA6;\n",
              "      --disabled-fill-color: #AAA;\n",
              "      --disabled-bg-color: #DDD;\n",
              "  }\n",
              "\n",
              "  [theme=dark] .colab-df-quickchart {\n",
              "      --bg-color: #3B4455;\n",
              "      --fill-color: #D2E3FC;\n",
              "      --hover-bg-color: #434B5C;\n",
              "      --hover-fill-color: #FFFFFF;\n",
              "      --disabled-bg-color: #3B4455;\n",
              "      --disabled-fill-color: #666;\n",
              "  }\n",
              "\n",
              "  .colab-df-quickchart {\n",
              "    background-color: var(--bg-color);\n",
              "    border: none;\n",
              "    border-radius: 50%;\n",
              "    cursor: pointer;\n",
              "    display: none;\n",
              "    fill: var(--fill-color);\n",
              "    height: 32px;\n",
              "    padding: 0;\n",
              "    width: 32px;\n",
              "  }\n",
              "\n",
              "  .colab-df-quickchart:hover {\n",
              "    background-color: var(--hover-bg-color);\n",
              "    box-shadow: 0 1px 2px rgba(60, 64, 67, 0.3), 0 1px 3px 1px rgba(60, 64, 67, 0.15);\n",
              "    fill: var(--button-hover-fill-color);\n",
              "  }\n",
              "\n",
              "  .colab-df-quickchart-complete:disabled,\n",
              "  .colab-df-quickchart-complete:disabled:hover {\n",
              "    background-color: var(--disabled-bg-color);\n",
              "    fill: var(--disabled-fill-color);\n",
              "    box-shadow: none;\n",
              "  }\n",
              "\n",
              "  .colab-df-spinner {\n",
              "    border: 2px solid var(--fill-color);\n",
              "    border-color: transparent;\n",
              "    border-bottom-color: var(--fill-color);\n",
              "    animation:\n",
              "      spin 1s steps(1) infinite;\n",
              "  }\n",
              "\n",
              "  @keyframes spin {\n",
              "    0% {\n",
              "      border-color: transparent;\n",
              "      border-bottom-color: var(--fill-color);\n",
              "      border-left-color: var(--fill-color);\n",
              "    }\n",
              "    20% {\n",
              "      border-color: transparent;\n",
              "      border-left-color: var(--fill-color);\n",
              "      border-top-color: var(--fill-color);\n",
              "    }\n",
              "    30% {\n",
              "      border-color: transparent;\n",
              "      border-left-color: var(--fill-color);\n",
              "      border-top-color: var(--fill-color);\n",
              "      border-right-color: var(--fill-color);\n",
              "    }\n",
              "    40% {\n",
              "      border-color: transparent;\n",
              "      border-right-color: var(--fill-color);\n",
              "      border-top-color: var(--fill-color);\n",
              "    }\n",
              "    60% {\n",
              "      border-color: transparent;\n",
              "      border-right-color: var(--fill-color);\n",
              "    }\n",
              "    80% {\n",
              "      border-color: transparent;\n",
              "      border-right-color: var(--fill-color);\n",
              "      border-bottom-color: var(--fill-color);\n",
              "    }\n",
              "    90% {\n",
              "      border-color: transparent;\n",
              "      border-bottom-color: var(--fill-color);\n",
              "    }\n",
              "  }\n",
              "</style>\n",
              "\n",
              "  <script>\n",
              "    async function quickchart(key) {\n",
              "      const quickchartButtonEl =\n",
              "        document.querySelector('#' + key + ' button');\n",
              "      quickchartButtonEl.disabled = true;  // To prevent multiple clicks.\n",
              "      quickchartButtonEl.classList.add('colab-df-spinner');\n",
              "      try {\n",
              "        const charts = await google.colab.kernel.invokeFunction(\n",
              "            'suggestCharts', [key], {});\n",
              "      } catch (error) {\n",
              "        console.error('Error during call to suggestCharts:', error);\n",
              "      }\n",
              "      quickchartButtonEl.classList.remove('colab-df-spinner');\n",
              "      quickchartButtonEl.classList.add('colab-df-quickchart-complete');\n",
              "    }\n",
              "    (() => {\n",
              "      let quickchartButtonEl =\n",
              "        document.querySelector('#df-c2ec6995-f667-481a-ad52-f2de6ff2364c button');\n",
              "      quickchartButtonEl.style.display =\n",
              "        google.colab.kernel.accessAllowed ? 'block' : 'none';\n",
              "    })();\n",
              "  </script>\n",
              "</div>\n",
              "    </div>\n",
              "  </div>\n"
            ]
          },
          "metadata": {},
          "execution_count": 4
        }
      ]
    },
    {
      "cell_type": "code",
      "source": [
        "print(df.isnull().sum())"
      ],
      "metadata": {
        "id": "sOs-YRXomx6r",
        "colab": {
          "base_uri": "https://localhost:8080/"
        },
        "outputId": "c31d7109-c62d-486b-d7e3-19f15096a1ae"
      },
      "execution_count": null,
      "outputs": [
        {
          "output_type": "stream",
          "name": "stdout",
          "text": [
            "id                         0\n",
            "diagnosis                  0\n",
            "radius_mean                0\n",
            "texture_mean               0\n",
            "perimeter_mean             0\n",
            "area_mean                  0\n",
            "smoothness_mean            0\n",
            "compactness_mean           0\n",
            "concavity_mean             0\n",
            "concave points_mean        0\n",
            "symmetry_mean              0\n",
            "fractal_dimension_mean     0\n",
            "radius_se                  0\n",
            "texture_se                 0\n",
            "perimeter_se               0\n",
            "area_se                    0\n",
            "smoothness_se              0\n",
            "compactness_se             0\n",
            "concavity_se               0\n",
            "concave points_se          0\n",
            "symmetry_se                0\n",
            "fractal_dimension_se       0\n",
            "radius_worst               0\n",
            "texture_worst              0\n",
            "perimeter_worst            0\n",
            "area_worst                 0\n",
            "smoothness_worst           0\n",
            "compactness_worst          0\n",
            "concavity_worst            0\n",
            "concave points_worst       0\n",
            "symmetry_worst             0\n",
            "fractal_dimension_worst    0\n",
            "dtype: int64\n"
          ]
        }
      ]
    },
    {
      "cell_type": "code",
      "source": [
        "df = df.rename(columns={\"diagnosis\":\"label\"})\n",
        "print(df.dtypes)"
      ],
      "metadata": {
        "id": "z2Og82Dpm-RS",
        "colab": {
          "base_uri": "https://localhost:8080/"
        },
        "outputId": "357c3532-7b19-4127-cf5c-6ef2c5f26d1e"
      },
      "execution_count": null,
      "outputs": [
        {
          "output_type": "stream",
          "name": "stdout",
          "text": [
            "id                           int64\n",
            "label                       object\n",
            "radius_mean                float64\n",
            "texture_mean               float64\n",
            "perimeter_mean             float64\n",
            "area_mean                  float64\n",
            "smoothness_mean            float64\n",
            "compactness_mean           float64\n",
            "concavity_mean             float64\n",
            "concave points_mean        float64\n",
            "symmetry_mean              float64\n",
            "fractal_dimension_mean     float64\n",
            "radius_se                  float64\n",
            "texture_se                 float64\n",
            "perimeter_se               float64\n",
            "area_se                    float64\n",
            "smoothness_se              float64\n",
            "compactness_se             float64\n",
            "concavity_se               float64\n",
            "concave points_se          float64\n",
            "symmetry_se                float64\n",
            "fractal_dimension_se       float64\n",
            "radius_worst               float64\n",
            "texture_worst              float64\n",
            "perimeter_worst            float64\n",
            "area_worst                 float64\n",
            "smoothness_worst           float64\n",
            "compactness_worst          float64\n",
            "concavity_worst            float64\n",
            "concave points_worst       float64\n",
            "symmetry_worst             float64\n",
            "fractal_dimension_worst    float64\n",
            "dtype: object\n"
          ]
        }
      ]
    },
    {
      "cell_type": "code",
      "source": [
        "sns.countplot(x=\"label\", data=df)"
      ],
      "metadata": {
        "colab": {
          "base_uri": "https://localhost:8080/",
          "height": 466
        },
        "id": "fIJf7rjOnfI4",
        "outputId": "14dca44a-b10d-4132-e64d-86d43a5c9ee1"
      },
      "execution_count": null,
      "outputs": [
        {
          "output_type": "execute_result",
          "data": {
            "text/plain": [
              "<Axes: xlabel='label', ylabel='count'>"
            ]
          },
          "metadata": {},
          "execution_count": 7
        },
        {
          "output_type": "display_data",
          "data": {
            "text/plain": [
              "<Figure size 640x480 with 1 Axes>"
            ],
            "image/png": "[encoded data removed]"
          },
          "metadata": {}
        }
      ]
    },
    {
      "cell_type": "code",
      "source": [
        "print(\"Distribution of data: \", df['label'].value_counts())"
      ],
      "metadata": {
        "colab": {
          "base_uri": "https://localhost:8080/"
        },
        "id": "_T-eS8E7oL66",
        "outputId": "0f5d98dd-87dd-4ba3-df4e-81af31e569b1"
      },
      "execution_count": null,
      "outputs": [
        {
          "output_type": "stream",
          "name": "stdout",
          "text": [
            "Distribution of data:  B    357\n",
            "M    212\n",
            "Name: label, dtype: int64\n"
          ]
        }
      ]
    },
    {
      "cell_type": "code",
      "source": [
        "y = df['label'].values"
      ],
      "metadata": {
        "id": "l3v91Lyqo319"
      },
      "execution_count": null,
      "outputs": []
    },
    {
      "cell_type": "code",
      "source": [
        "print(\"Labels before encodeing are: \", np.unique(y))"
      ],
      "metadata": {
        "colab": {
          "base_uri": "https://localhost:8080/"
        },
        "id": "xKlRnRTycFEz",
        "outputId": "82c1b0e6-661b-4daf-a568-53d77a1f7f1c"
      },
      "execution_count": null,
      "outputs": [
        {
          "output_type": "stream",
          "name": "stdout",
          "text": [
            "Labels before encodeing are:  ['B' 'M']\n"
          ]
        }
      ]
    },
    {
      "cell_type": "code",
      "source": [
        "from sklearn.preprocessing import LabelEncoder"
      ],
      "metadata": {
        "id": "jJO5fDyYcJ4x"
      },
      "execution_count": null,
      "outputs": []
    },
    {
      "cell_type": "code",
      "source": [
        "labelencoder = LabelEncoder()"
      ],
      "metadata": {
        "id": "ntA0NCTfcUOa"
      },
      "execution_count": null,
      "outputs": []
    },
    {
      "cell_type": "code",
      "source": [
        "Y = labelencoder.fit_transform(y)"
      ],
      "metadata": {
        "id": "ZoO2xh_McZDR"
      },
      "execution_count": null,
      "outputs": []
    },
    {
      "cell_type": "code",
      "source": [
        "print(\"Labels after encodeing are: \", np.unique(Y))"
      ],
      "metadata": {
        "colab": {
          "base_uri": "https://localhost:8080/"
        },
        "id": "eyMV0WkecdsG",
        "outputId": "0a5a6034-d30b-4da2-e811-9aef28232e31"
      },
      "execution_count": null,
      "outputs": [
        {
          "output_type": "stream",
          "name": "stdout",
          "text": [
            "Labels after encodeing are:  [0 1]\n"
          ]
        }
      ]
    },
    {
      "cell_type": "code",
      "source": [
        "X = df.drop(labels=['label', 'id'], axis=1)\n",
        "print(X.describe().T)"
      ],
      "metadata": {
        "id": "sucdTbT2ciFT",
        "colab": {
          "base_uri": "https://localhost:8080/"
        },
        "outputId": "e82e0823-fc88-4cde-e36d-4373890a5fdc"
      },
      "execution_count": null,
      "outputs": [
        {
          "output_type": "stream",
          "name": "stdout",
          "text": [
            "                         count        mean         std         min  \\\n",
            "radius_mean              569.0   14.127292    3.524049    6.981000   \n",
            "texture_mean             569.0   19.289649    4.301036    9.710000   \n",
            "perimeter_mean           569.0   91.969033   24.298981   43.790000   \n",
            "area_mean                569.0  654.889104  351.914129  143.500000   \n",
            "smoothness_mean          569.0    0.096360    0.014064    0.052630   \n",
            "compactness_mean         569.0    0.104341    0.052813    0.019380   \n",
            "concavity_mean           569.0    0.088799    0.079720    0.000000   \n",
            "concave points_mean      569.0    0.048919    0.038803    0.000000   \n",
            "symmetry_mean            569.0    0.181162    0.027414    0.106000   \n",
            "fractal_dimension_mean   569.0    0.062798    0.007060    0.049960   \n",
            "radius_se                569.0    0.405172    0.277313    0.111500   \n",
            "texture_se               569.0    1.216853    0.551648    0.360200   \n",
            "perimeter_se             569.0    2.866059    2.021855    0.757000   \n",
            "area_se                  569.0   40.337079   45.491006    6.802000   \n",
            "smoothness_se            569.0    0.007041    0.003003    0.001713   \n",
            "compactness_se           569.0    0.025478    0.017908    0.002252   \n",
            "concavity_se             569.0    0.031894    0.030186    0.000000   \n",
            "concave points_se        569.0    0.011796    0.006170    0.000000   \n",
            "symmetry_se              569.0    0.020542    0.008266    0.007882   \n",
            "fractal_dimension_se     569.0    0.003795    0.002646    0.000895   \n",
            "radius_worst             569.0   16.269190    4.833242    7.930000   \n",
            "texture_worst            569.0   25.677223    6.146258   12.020000   \n",
            "perimeter_worst          569.0  107.261213   33.602542   50.410000   \n",
            "area_worst               569.0  880.583128  569.356993  185.200000   \n",
            "smoothness_worst         569.0    0.132369    0.022832    0.071170   \n",
            "compactness_worst        569.0    0.254265    0.157336    0.027290   \n",
            "concavity_worst          569.0    0.272188    0.208624    0.000000   \n",
            "concave points_worst     569.0    0.114606    0.065732    0.000000   \n",
            "symmetry_worst           569.0    0.290076    0.061867    0.156500   \n",
            "fractal_dimension_worst  569.0    0.083946    0.018061    0.055040   \n",
            "\n",
            "                                25%         50%          75%         max  \n",
            "radius_mean               11.700000   13.370000    15.780000    28.11000  \n",
            "texture_mean              16.170000   18.840000    21.800000    39.28000  \n",
            "perimeter_mean            75.170000   86.240000   104.100000   188.50000  \n",
            "area_mean                420.300000  551.100000   782.700000  2501.00000  \n",
            "smoothness_mean            0.086370    0.095870     0.105300     0.16340  \n",
            "compactness_mean           0.064920    0.092630     0.130400     0.34540  \n",
            "concavity_mean             0.029560    0.061540     0.130700     0.42680  \n",
            "concave points_mean        0.020310    0.033500     0.074000     0.20120  \n",
            "symmetry_mean              0.161900    0.179200     0.195700     0.30400  \n",
            "fractal_dimension_mean     0.057700    0.061540     0.066120     0.09744  \n",
            "radius_se                  0.232400    0.324200     0.478900     2.87300  \n",
            "texture_se                 0.833900    1.108000     1.474000     4.88500  \n",
            "perimeter_se               1.606000    2.287000     3.357000    21.98000  \n",
            "area_se                   17.850000   24.530000    45.190000   542.20000  \n",
            "smoothness_se              0.005169    0.006380     0.008146     0.03113  \n",
            "compactness_se             0.013080    0.020450     0.032450     0.13540  \n",
            "concavity_se               0.015090    0.025890     0.042050     0.39600  \n",
            "concave points_se          0.007638    0.010930     0.014710     0.05279  \n",
            "symmetry_se                0.015160    0.018730     0.023480     0.07895  \n",
            "fractal_dimension_se       0.002248    0.003187     0.004558     0.02984  \n",
            "radius_worst              13.010000   14.970000    18.790000    36.04000  \n",
            "texture_worst             21.080000   25.410000    29.720000    49.54000  \n",
            "perimeter_worst           84.110000   97.660000   125.400000   251.20000  \n",
            "area_worst               515.300000  686.500000  1084.000000  4254.00000  \n",
            "smoothness_worst           0.116600    0.131300     0.146000     0.22260  \n",
            "compactness_worst          0.147200    0.211900     0.339100     1.05800  \n",
            "concavity_worst            0.114500    0.226700     0.382900     1.25200  \n",
            "concave points_worst       0.064930    0.099930     0.161400     0.29100  \n",
            "symmetry_worst             0.250400    0.282200     0.317900     0.66380  \n",
            "fractal_dimension_worst    0.071460    0.080040     0.092080     0.20750  \n"
          ]
        }
      ]
    },
    {
      "cell_type": "code",
      "source": [
        "from sklearn.preprocessing import MinMaxScaler\n",
        "scaler = MinMaxScaler()\n",
        "scaler.fit(X)\n",
        "X = scaler.transform(X)\n",
        "print(X)"
      ],
      "metadata": {
        "colab": {
          "base_uri": "https://localhost:8080/"
        },
        "id": "YbxU_A1wl8Bc",
        "outputId": "1385e3d7-e37d-410f-b5bd-c74bccab8217"
      },
      "execution_count": null,
      "outputs": [
        {
          "output_type": "stream",
          "name": "stdout",
          "text": [
            "[[0.52103744 0.0226581  0.54598853 ... 0.91202749 0.59846245 0.41886396]\n",
            " [0.64314449 0.27257355 0.61578329 ... 0.63917526 0.23358959 0.22287813]\n",
            " [0.60149557 0.3902604  0.59574321 ... 0.83505155 0.40370589 0.21343303]\n",
            " ...\n",
            " [0.45525108 0.62123774 0.44578813 ... 0.48728522 0.12872068 0.1519087 ]\n",
            " [0.64456434 0.66351031 0.66553797 ... 0.91065292 0.49714173 0.45231536]\n",
            " [0.03686876 0.50152181 0.02853984 ... 0.         0.25744136 0.10068215]]\n"
          ]
        }
      ]
    },
    {
      "cell_type": "code",
      "source": [
        "from sklearn.model_selection import train_test_split\n",
        "X_train, X_test, y_train, y_test = train_test_split(X, Y, test_size=0.25, random_state=42)\n",
        "print(\"Shape of training data: \", X_train.shape)\n",
        "print(\"Shape of test data: \", X_test.shape)"
      ],
      "metadata": {
        "colab": {
          "base_uri": "https://localhost:8080/"
        },
        "id": "CYb83HwcmwvN",
        "outputId": "c9929722-325f-497c-e7b8-8d44cf8fcc26"
      },
      "execution_count": null,
      "outputs": [
        {
          "output_type": "stream",
          "name": "stdout",
          "text": [
            "Shape of training data:  (426, 30)\n",
            "Shape of test data:  (143, 30)\n"
          ]
        }
      ]
    },
    {
      "cell_type": "code",
      "source": [
        "from keras.models import Sequential\n",
        "from keras.layers import Dense, Activation, Dropout"
      ],
      "metadata": {
        "id": "jwzAfGqHpQTv"
      },
      "execution_count": null,
      "outputs": []
    },
    {
      "cell_type": "code",
      "source": [
        "model = Sequential()\n",
        "model.add(Dense(16, input_dim=30, activation='relu'))\n",
        "model.add(Dropout(0.2))\n",
        "model.add(Dense(1))\n",
        "model.add(Activation('sigmoid'))\n",
        "model.compile(loss='binary_crossentropy', optimizer='adam', metrics=['accuracy'])\n",
        "print(model.summary())"
      ],
      "metadata": {
        "colab": {
          "base_uri": "https://localhost:8080/"
        },
        "id": "BT_XRwo0puZJ",
        "outputId": "cd86d03d-3d6a-4154-a1c5-3fe368167286"
      },
      "execution_count": null,
      "outputs": [
        {
          "output_type": "stream",
          "name": "stdout",
          "text": [
            "Model: \"sequential\"\n",
            "_________________________________________________________________\n",
            " Layer (type)                Output Shape              Param #   \n",
            "=================================================================\n",
            " dense (Dense)               (None, 16)                496       \n",
            "                                                                 \n",
            " dropout (Dropout)           (None, 16)                0         \n",
            "                                                                 \n",
            " dense_1 (Dense)             (None, 1)                 17        \n",
            "                                                                 \n",
            " activation (Activation)     (None, 1)                 0         \n",
            "                                                                 \n",
            "=================================================================\n",
            "Total params: 513 (2.00 KB)\n",
            "Trainable params: 513 (2.00 KB)\n",
            "Non-trainable params: 0 (0.00 Byte)\n",
            "_________________________________________________________________\n",
            "None\n"
          ]
        }
      ]
    },
    {
      "cell_type": "code",
      "source": [
        "history = model.fit(X_train, y_train, verbose=1, epochs=100, batch_size=64, validation_data=(X_test, y_test))"
      ],
      "metadata": {
        "colab": {
          "base_uri": "https://localhost:8080/"
        },
        "id": "PvemJUciqzWx",
        "outputId": "e3d4d66d-5853-4668-ea98-0ef9d1fa82d7"
      },
      "execution_count": null,
      "outputs": [
        {
          "output_type": "stream",
          "name": "stdout",
          "text": [
            "Epoch 1/100\n",
            "7/7 [==============================] - 7s 35ms/step - loss: 0.6986 - accuracy: 0.4695 - val_loss: 0.6961 - val_accuracy: 0.4266\n",
            "Epoch 2/100\n",
            "7/7 [==============================] - 0s 11ms/step - loss: 0.6959 - accuracy: 0.4624 - val_loss: 0.6874 - val_accuracy: 0.4615\n",
            "Epoch 3/100\n",
            "7/7 [==============================] - 0s 11ms/step - loss: 0.6850 - accuracy: 0.4883 - val_loss: 0.6788 - val_accuracy: 0.5594\n",
            "Epoch 4/100\n",
            "7/7 [==============================] - 0s 12ms/step - loss: 0.6762 - accuracy: 0.5704 - val_loss: 0.6697 - val_accuracy: 0.6993\n",
            "Epoch 5/100\n",
            "7/7 [==============================] - 0s 11ms/step - loss: 0.6660 - accuracy: 0.6432 - val_loss: 0.6604 - val_accuracy: 0.7972\n",
            "Epoch 6/100\n",
            "7/7 [==============================] - 0s 11ms/step - loss: 0.6635 - accuracy: 0.6643 - val_loss: 0.6502 - val_accuracy: 0.8951\n",
            "Epoch 7/100\n",
            "7/7 [==============================] - 0s 11ms/step - loss: 0.6551 - accuracy: 0.6925 - val_loss: 0.6389 - val_accuracy: 0.9231\n",
            "Epoch 8/100\n",
            "7/7 [==============================] - 0s 8ms/step - loss: 0.6354 - accuracy: 0.7817 - val_loss: 0.6263 - val_accuracy: 0.9441\n",
            "Epoch 9/100\n",
            "7/7 [==============================] - 0s 10ms/step - loss: 0.6269 - accuracy: 0.8099 - val_loss: 0.6118 - val_accuracy: 0.9371\n",
            "Epoch 10/100\n",
            "7/7 [==============================] - 0s 10ms/step - loss: 0.6143 - accuracy: 0.8310 - val_loss: 0.5963 - val_accuracy: 0.9231\n",
            "Epoch 11/100\n",
            "7/7 [==============================] - 0s 9ms/step - loss: 0.5923 - accuracy: 0.8521 - val_loss: 0.5804 - val_accuracy: 0.9371\n",
            "Epoch 12/100\n",
            "7/7 [==============================] - 0s 10ms/step - loss: 0.5855 - accuracy: 0.8498 - val_loss: 0.5643 - val_accuracy: 0.9371\n",
            "Epoch 13/100\n",
            "7/7 [==============================] - 0s 11ms/step - loss: 0.5687 - accuracy: 0.8638 - val_loss: 0.5486 - val_accuracy: 0.9371\n",
            "Epoch 14/100\n",
            "7/7 [==============================] - 0s 9ms/step - loss: 0.5581 - accuracy: 0.8545 - val_loss: 0.5333 - val_accuracy: 0.9301\n",
            "Epoch 15/100\n",
            "7/7 [==============================] - 0s 9ms/step - loss: 0.5360 - accuracy: 0.8967 - val_loss: 0.5186 - val_accuracy: 0.9231\n",
            "Epoch 16/100\n",
            "7/7 [==============================] - 0s 10ms/step - loss: 0.5399 - accuracy: 0.8662 - val_loss: 0.5041 - val_accuracy: 0.9231\n",
            "Epoch 17/100\n",
            "7/7 [==============================] - 0s 11ms/step - loss: 0.5130 - accuracy: 0.8873 - val_loss: 0.4899 - val_accuracy: 0.9301\n",
            "Epoch 18/100\n",
            "7/7 [==============================] - 0s 10ms/step - loss: 0.5120 - accuracy: 0.8615 - val_loss: 0.4759 - val_accuracy: 0.9301\n",
            "Epoch 19/100\n",
            "7/7 [==============================] - 0s 8ms/step - loss: 0.4959 - accuracy: 0.8638 - val_loss: 0.4624 - val_accuracy: 0.9231\n",
            "Epoch 20/100\n",
            "7/7 [==============================] - 0s 11ms/step - loss: 0.4824 - accuracy: 0.8803 - val_loss: 0.4493 - val_accuracy: 0.9161\n",
            "Epoch 21/100\n",
            "7/7 [==============================] - 0s 9ms/step - loss: 0.4686 - accuracy: 0.8920 - val_loss: 0.4366 - val_accuracy: 0.9231\n",
            "Epoch 22/100\n",
            "7/7 [==============================] - 0s 9ms/step - loss: 0.4776 - accuracy: 0.8756 - val_loss: 0.4246 - val_accuracy: 0.9301\n",
            "Epoch 23/100\n",
            "7/7 [==============================] - 0s 11ms/step - loss: 0.4503 - accuracy: 0.8826 - val_loss: 0.4131 - val_accuracy: 0.9371\n",
            "Epoch 24/100\n",
            "7/7 [==============================] - 0s 8ms/step - loss: 0.4380 - accuracy: 0.8850 - val_loss: 0.4015 - val_accuracy: 0.9301\n",
            "Epoch 25/100\n",
            "7/7 [==============================] - 0s 9ms/step - loss: 0.4356 - accuracy: 0.8756 - val_loss: 0.3905 - val_accuracy: 0.9301\n",
            "Epoch 26/100\n",
            "7/7 [==============================] - 0s 9ms/step - loss: 0.4272 - accuracy: 0.8803 - val_loss: 0.3801 - val_accuracy: 0.9371\n",
            "Epoch 27/100\n",
            "7/7 [==============================] - 0s 11ms/step - loss: 0.4131 - accuracy: 0.8826 - val_loss: 0.3700 - val_accuracy: 0.9441\n",
            "Epoch 28/100\n",
            "7/7 [==============================] - 0s 10ms/step - loss: 0.4087 - accuracy: 0.8850 - val_loss: 0.3605 - val_accuracy: 0.9510\n",
            "Epoch 29/100\n",
            "7/7 [==============================] - 0s 9ms/step - loss: 0.3978 - accuracy: 0.8897 - val_loss: 0.3510 - val_accuracy: 0.9510\n",
            "Epoch 30/100\n",
            "7/7 [==============================] - 0s 11ms/step - loss: 0.3954 - accuracy: 0.9038 - val_loss: 0.3419 - val_accuracy: 0.9510\n",
            "Epoch 31/100\n",
            "7/7 [==============================] - 0s 11ms/step - loss: 0.3853 - accuracy: 0.8920 - val_loss: 0.3334 - val_accuracy: 0.9510\n",
            "Epoch 32/100\n",
            "7/7 [==============================] - 0s 11ms/step - loss: 0.3741 - accuracy: 0.9014 - val_loss: 0.3252 - val_accuracy: 0.9510\n",
            "Epoch 33/100\n",
            "7/7 [==============================] - 0s 9ms/step - loss: 0.3661 - accuracy: 0.8991 - val_loss: 0.3178 - val_accuracy: 0.9580\n",
            "Epoch 34/100\n",
            "7/7 [==============================] - 0s 8ms/step - loss: 0.3729 - accuracy: 0.8779 - val_loss: 0.3105 - val_accuracy: 0.9580\n",
            "Epoch 35/100\n",
            "7/7 [==============================] - 0s 8ms/step - loss: 0.3581 - accuracy: 0.9038 - val_loss: 0.3034 - val_accuracy: 0.9510\n",
            "Epoch 36/100\n",
            "7/7 [==============================] - 0s 11ms/step - loss: 0.3517 - accuracy: 0.8967 - val_loss: 0.2964 - val_accuracy: 0.9510\n",
            "Epoch 37/100\n",
            "7/7 [==============================] - 0s 8ms/step - loss: 0.3353 - accuracy: 0.9014 - val_loss: 0.2900 - val_accuracy: 0.9510\n",
            "Epoch 38/100\n",
            "7/7 [==============================] - 0s 9ms/step - loss: 0.3305 - accuracy: 0.8873 - val_loss: 0.2836 - val_accuracy: 0.9580\n",
            "Epoch 39/100\n",
            "7/7 [==============================] - 0s 12ms/step - loss: 0.3433 - accuracy: 0.8897 - val_loss: 0.2775 - val_accuracy: 0.9580\n",
            "Epoch 40/100\n",
            "7/7 [==============================] - 0s 9ms/step - loss: 0.3268 - accuracy: 0.8944 - val_loss: 0.2721 - val_accuracy: 0.9580\n",
            "Epoch 41/100\n",
            "7/7 [==============================] - 0s 10ms/step - loss: 0.3232 - accuracy: 0.9249 - val_loss: 0.2663 - val_accuracy: 0.9650\n",
            "Epoch 42/100\n",
            "7/7 [==============================] - 0s 10ms/step - loss: 0.3127 - accuracy: 0.9085 - val_loss: 0.2605 - val_accuracy: 0.9510\n",
            "Epoch 43/100\n",
            "7/7 [==============================] - 0s 9ms/step - loss: 0.3182 - accuracy: 0.8991 - val_loss: 0.2549 - val_accuracy: 0.9510\n",
            "Epoch 44/100\n",
            "7/7 [==============================] - 0s 11ms/step - loss: 0.2986 - accuracy: 0.9249 - val_loss: 0.2498 - val_accuracy: 0.9510\n",
            "Epoch 45/100\n",
            "7/7 [==============================] - 0s 11ms/step - loss: 0.2973 - accuracy: 0.9061 - val_loss: 0.2453 - val_accuracy: 0.9580\n",
            "Epoch 46/100\n",
            "7/7 [==============================] - 0s 8ms/step - loss: 0.2879 - accuracy: 0.9108 - val_loss: 0.2406 - val_accuracy: 0.9580\n",
            "Epoch 47/100\n",
            "7/7 [==============================] - 0s 8ms/step - loss: 0.2905 - accuracy: 0.9038 - val_loss: 0.2360 - val_accuracy: 0.9650\n",
            "Epoch 48/100\n",
            "7/7 [==============================] - 0s 8ms/step - loss: 0.2938 - accuracy: 0.8944 - val_loss: 0.2319 - val_accuracy: 0.9650\n",
            "Epoch 49/100\n",
            "7/7 [==============================] - 0s 10ms/step - loss: 0.2878 - accuracy: 0.9225 - val_loss: 0.2280 - val_accuracy: 0.9650\n",
            "Epoch 50/100\n",
            "7/7 [==============================] - 0s 10ms/step - loss: 0.2822 - accuracy: 0.8920 - val_loss: 0.2242 - val_accuracy: 0.9650\n",
            "Epoch 51/100\n",
            "7/7 [==============================] - 0s 10ms/step - loss: 0.2875 - accuracy: 0.9061 - val_loss: 0.2205 - val_accuracy: 0.9650\n",
            "Epoch 52/100\n",
            "7/7 [==============================] - 0s 10ms/step - loss: 0.2735 - accuracy: 0.9178 - val_loss: 0.2167 - val_accuracy: 0.9650\n",
            "Epoch 53/100\n",
            "7/7 [==============================] - 0s 8ms/step - loss: 0.2745 - accuracy: 0.9014 - val_loss: 0.2133 - val_accuracy: 0.9650\n",
            "Epoch 54/100\n",
            "7/7 [==============================] - 0s 10ms/step - loss: 0.2780 - accuracy: 0.8944 - val_loss: 0.2101 - val_accuracy: 0.9720\n",
            "Epoch 55/100\n",
            "7/7 [==============================] - 0s 8ms/step - loss: 0.2587 - accuracy: 0.9085 - val_loss: 0.2065 - val_accuracy: 0.9650\n",
            "Epoch 56/100\n",
            "7/7 [==============================] - 0s 8ms/step - loss: 0.2549 - accuracy: 0.9202 - val_loss: 0.2025 - val_accuracy: 0.9580\n",
            "Epoch 57/100\n",
            "7/7 [==============================] - 0s 8ms/step - loss: 0.2505 - accuracy: 0.9319 - val_loss: 0.1988 - val_accuracy: 0.9510\n",
            "Epoch 58/100\n",
            "7/7 [==============================] - 0s 8ms/step - loss: 0.2476 - accuracy: 0.9178 - val_loss: 0.1955 - val_accuracy: 0.9510\n",
            "Epoch 59/100\n",
            "7/7 [==============================] - 0s 8ms/step - loss: 0.2456 - accuracy: 0.9131 - val_loss: 0.1927 - val_accuracy: 0.9580\n",
            "Epoch 60/100\n",
            "7/7 [==============================] - 0s 11ms/step - loss: 0.2482 - accuracy: 0.9155 - val_loss: 0.1905 - val_accuracy: 0.9650\n",
            "Epoch 61/100\n",
            "7/7 [==============================] - 0s 8ms/step - loss: 0.2432 - accuracy: 0.9178 - val_loss: 0.1885 - val_accuracy: 0.9580\n",
            "Epoch 62/100\n",
            "7/7 [==============================] - 0s 11ms/step - loss: 0.2369 - accuracy: 0.9155 - val_loss: 0.1852 - val_accuracy: 0.9650\n",
            "Epoch 63/100\n",
            "7/7 [==============================] - 0s 11ms/step - loss: 0.2369 - accuracy: 0.9319 - val_loss: 0.1815 - val_accuracy: 0.9650\n",
            "Epoch 64/100\n",
            "7/7 [==============================] - 0s 12ms/step - loss: 0.2322 - accuracy: 0.9085 - val_loss: 0.1790 - val_accuracy: 0.9650\n",
            "Epoch 65/100\n",
            "7/7 [==============================] - 0s 11ms/step - loss: 0.2410 - accuracy: 0.9155 - val_loss: 0.1764 - val_accuracy: 0.9580\n",
            "Epoch 66/100\n",
            "7/7 [==============================] - 0s 10ms/step - loss: 0.2333 - accuracy: 0.9272 - val_loss: 0.1747 - val_accuracy: 0.9580\n",
            "Epoch 67/100\n",
            "7/7 [==============================] - 0s 11ms/step - loss: 0.2290 - accuracy: 0.9225 - val_loss: 0.1725 - val_accuracy: 0.9650\n",
            "Epoch 68/100\n",
            "7/7 [==============================] - 0s 10ms/step - loss: 0.2217 - accuracy: 0.9343 - val_loss: 0.1710 - val_accuracy: 0.9650\n",
            "Epoch 69/100\n",
            "7/7 [==============================] - 0s 9ms/step - loss: 0.2310 - accuracy: 0.9131 - val_loss: 0.1683 - val_accuracy: 0.9650\n",
            "Epoch 70/100\n",
            "7/7 [==============================] - 0s 9ms/step - loss: 0.2186 - accuracy: 0.9225 - val_loss: 0.1658 - val_accuracy: 0.9510\n",
            "Epoch 71/100\n",
            "7/7 [==============================] - 0s 11ms/step - loss: 0.2347 - accuracy: 0.9225 - val_loss: 0.1640 - val_accuracy: 0.9650\n",
            "Epoch 72/100\n",
            "7/7 [==============================] - 0s 9ms/step - loss: 0.2207 - accuracy: 0.9178 - val_loss: 0.1619 - val_accuracy: 0.9580\n",
            "Epoch 73/100\n",
            "7/7 [==============================] - 0s 9ms/step - loss: 0.2258 - accuracy: 0.9249 - val_loss: 0.1602 - val_accuracy: 0.9650\n",
            "Epoch 74/100\n",
            "7/7 [==============================] - 0s 10ms/step - loss: 0.2155 - accuracy: 0.9202 - val_loss: 0.1583 - val_accuracy: 0.9580\n",
            "Epoch 75/100\n",
            "7/7 [==============================] - 0s 10ms/step - loss: 0.2118 - accuracy: 0.9296 - val_loss: 0.1564 - val_accuracy: 0.9580\n",
            "Epoch 76/100\n",
            "7/7 [==============================] - 0s 9ms/step - loss: 0.2047 - accuracy: 0.9343 - val_loss: 0.1551 - val_accuracy: 0.9790\n",
            "Epoch 77/100\n",
            "7/7 [==============================] - 0s 8ms/step - loss: 0.2018 - accuracy: 0.9390 - val_loss: 0.1535 - val_accuracy: 0.9790\n",
            "Epoch 78/100\n",
            "7/7 [==============================] - 0s 8ms/step - loss: 0.2008 - accuracy: 0.9343 - val_loss: 0.1516 - val_accuracy: 0.9790\n",
            "Epoch 79/100\n",
            "7/7 [==============================] - 0s 8ms/step - loss: 0.1985 - accuracy: 0.9343 - val_loss: 0.1496 - val_accuracy: 0.9720\n",
            "Epoch 80/100\n",
            "7/7 [==============================] - 0s 9ms/step - loss: 0.2063 - accuracy: 0.9343 - val_loss: 0.1479 - val_accuracy: 0.9720\n",
            "Epoch 81/100\n",
            "7/7 [==============================] - 0s 11ms/step - loss: 0.2007 - accuracy: 0.9249 - val_loss: 0.1460 - val_accuracy: 0.9720\n",
            "Epoch 82/100\n",
            "7/7 [==============================] - 0s 10ms/step - loss: 0.1883 - accuracy: 0.9460 - val_loss: 0.1455 - val_accuracy: 0.9860\n",
            "Epoch 83/100\n",
            "7/7 [==============================] - 0s 9ms/step - loss: 0.2017 - accuracy: 0.9366 - val_loss: 0.1443 - val_accuracy: 0.9860\n",
            "Epoch 84/100\n",
            "7/7 [==============================] - 0s 10ms/step - loss: 0.2006 - accuracy: 0.9343 - val_loss: 0.1422 - val_accuracy: 0.9790\n",
            "Epoch 85/100\n",
            "7/7 [==============================] - 0s 9ms/step - loss: 0.1881 - accuracy: 0.9507 - val_loss: 0.1409 - val_accuracy: 0.9790\n",
            "Epoch 86/100\n",
            "7/7 [==============================] - 0s 11ms/step - loss: 0.1939 - accuracy: 0.9413 - val_loss: 0.1388 - val_accuracy: 0.9720\n",
            "Epoch 87/100\n",
            "7/7 [==============================] - 0s 16ms/step - loss: 0.1912 - accuracy: 0.9413 - val_loss: 0.1385 - val_accuracy: 0.9790\n",
            "Epoch 88/100\n",
            "7/7 [==============================] - 0s 13ms/step - loss: 0.1836 - accuracy: 0.9319 - val_loss: 0.1363 - val_accuracy: 0.9790\n",
            "Epoch 89/100\n",
            "7/7 [==============================] - 0s 15ms/step - loss: 0.1908 - accuracy: 0.9343 - val_loss: 0.1356 - val_accuracy: 0.9790\n",
            "Epoch 90/100\n",
            "7/7 [==============================] - 0s 13ms/step - loss: 0.1861 - accuracy: 0.9296 - val_loss: 0.1338 - val_accuracy: 0.9790\n",
            "Epoch 91/100\n",
            "7/7 [==============================] - 0s 14ms/step - loss: 0.1818 - accuracy: 0.9390 - val_loss: 0.1324 - val_accuracy: 0.9790\n",
            "Epoch 92/100\n",
            "7/7 [==============================] - 0s 14ms/step - loss: 0.1806 - accuracy: 0.9319 - val_loss: 0.1311 - val_accuracy: 0.9720\n",
            "Epoch 93/100\n",
            "7/7 [==============================] - 0s 12ms/step - loss: 0.1863 - accuracy: 0.9390 - val_loss: 0.1296 - val_accuracy: 0.9650\n",
            "Epoch 94/100\n",
            "7/7 [==============================] - 0s 17ms/step - loss: 0.1853 - accuracy: 0.9366 - val_loss: 0.1298 - val_accuracy: 0.9790\n",
            "Epoch 95/100\n",
            "7/7 [==============================] - 0s 15ms/step - loss: 0.1796 - accuracy: 0.9296 - val_loss: 0.1285 - val_accuracy: 0.9790\n",
            "Epoch 96/100\n",
            "7/7 [==============================] - 0s 14ms/step - loss: 0.1624 - accuracy: 0.9507 - val_loss: 0.1266 - val_accuracy: 0.9790\n",
            "Epoch 97/100\n",
            "7/7 [==============================] - 0s 15ms/step - loss: 0.1827 - accuracy: 0.9296 - val_loss: 0.1248 - val_accuracy: 0.9650\n",
            "Epoch 98/100\n",
            "7/7 [==============================] - 0s 14ms/step - loss: 0.1805 - accuracy: 0.9319 - val_loss: 0.1242 - val_accuracy: 0.9790\n",
            "Epoch 99/100\n",
            "7/7 [==============================] - 0s 14ms/step - loss: 0.1728 - accuracy: 0.9366 - val_loss: 0.1239 - val_accuracy: 0.9790\n",
            "Epoch 100/100\n",
            "7/7 [==============================] - 0s 13ms/step - loss: 0.1841 - accuracy: 0.9413 - val_loss: 0.1247 - val_accuracy: 0.9720\n"
          ]
        }
      ]
    },
    {
      "cell_type": "code",
      "source": [
        "#plot the training and validation accuracy and loss at each epoch\n",
        "loss = history.history['loss']\n",
        "val_loss = history.history['val_loss']\n",
        "epochs = range(1, len(loss) + 1)\n",
        "plt.plot(epochs, loss, 'y', label='Training loss')\n",
        "plt.plot(epochs, val_loss, 'r', label='Validation loss')\n",
        "plt.title('Training and validation loss')\n",
        "plt.xlabel('Epochs')\n",
        "plt.ylabel('Loss')\n",
        "plt.legend()\n",
        "plt.show()\n",
        "\n",
        "\n",
        "acc = history.history['accuracy']  #Use accuracy if acc doesn't work\n",
        "val_acc = history.history['val_accuracy']  #Use val_accuracy if acc doesn't work\n",
        "plt.plot(epochs, acc, 'y', label='Training acc')\n",
        "plt.plot(epochs, val_acc, 'r', label='Validation acc')\n",
        "plt.title('Training and validation accuracy')\n",
        "plt.xlabel('Epochs')\n",
        "plt.ylabel('Accuracy')\n",
        "plt.legend()\n",
        "plt.show()"
      ],
      "metadata": {
        "colab": {
          "base_uri": "https://localhost:8080/",
          "height": 927
        },
        "id": "PM_5Ox_KvTZQ",
        "outputId": "3ef93d9c-4d47-4d23-8ba5-1ed577db7609"
      },
      "execution_count": null,
      "outputs": [
        {
          "output_type": "display_data",
          "data": {
            "text/plain": [
              "<Figure size 640x480 with 1 Axes>"
            ],
            "image/png": "[encoded data removed]"
          },
          "metadata": {}
        },
        {
          "output_type": "display_data",
          "data": {
            "text/plain": [
              "<Figure size 640x480 with 1 Axes>"
            ],
            "image/png": "[encoded data removed]"
          },
          "metadata": {}
        }
      ]
    },
    {
      "cell_type": "code",
      "source": [
        "y_pred = model.predict(X_test)\n",
        "print(y_pred)\n",
        "y_pred = (y_pred > 0.5)\n",
        "\n",
        "from sklearn.metrics import confusion_matrix\n",
        "cm = confusion_matrix(y_test, y_pred)\n",
        "\n",
        "sns.heatmap(cm, annot=True)"
      ],
      "metadata": {
        "colab": {
          "base_uri": "https://localhost:8080/",
          "height": 1000
        },
        "id": "_ErTvILHwDra",
        "outputId": "831f7ef3-906c-4ba0-f4c7-3c7c773185ff"
      },
      "execution_count": null,
      "outputs": [
        {
          "output_type": "stream",
          "name": "stdout",
          "text": [
            "5/5 [==============================] - 0s 3ms/step\n",
            "[[0.24522853]\n",
            " [0.98446876]\n",
            " [0.9352882 ]\n",
            " [0.0294847 ]\n",
            " [0.02413676]\n",
            " [0.99967885]\n",
            " [0.9990596 ]\n",
            " [0.87153864]\n",
            " [0.5486711 ]\n",
            " [0.12263858]\n",
            " [0.10708637]\n",
            " [0.8589419 ]\n",
            " [0.11593826]\n",
            " [0.5476525 ]\n",
            " [0.12356118]\n",
            " [0.93934226]\n",
            " [0.10375421]\n",
            " [0.01273529]\n",
            " [0.0049741 ]\n",
            " [0.9941572 ]\n",
            " [0.49358237]\n",
            " [0.06989779]\n",
            " [0.9988061 ]\n",
            " [0.02612736]\n",
            " [0.03736406]\n",
            " [0.02623731]\n",
            " [0.20174785]\n",
            " [0.03976001]\n",
            " [0.0496145 ]\n",
            " [0.99265975]\n",
            " [0.03023694]\n",
            " [0.05016411]\n",
            " [0.0141668 ]\n",
            " [0.11147965]\n",
            " [0.01679381]\n",
            " [0.03774157]\n",
            " [0.59348387]\n",
            " [0.05353329]\n",
            " [0.9739794 ]\n",
            " [0.17319606]\n",
            " [0.01762176]\n",
            " [0.8286583 ]\n",
            " [0.10889048]\n",
            " [0.06012958]\n",
            " [0.06052481]\n",
            " [0.11172087]\n",
            " [0.00594685]\n",
            " [0.02143599]\n",
            " [0.11096868]\n",
            " [0.19166425]\n",
            " [0.96088284]\n",
            " [0.99691415]\n",
            " [0.31257802]\n",
            " [0.05794237]\n",
            " [0.01024647]\n",
            " [0.25191364]\n",
            " [0.02206251]\n",
            " [0.9997867 ]\n",
            " [0.79975677]\n",
            " [0.04396365]\n",
            " [0.09949433]\n",
            " [0.9944665 ]\n",
            " [0.9969771 ]\n",
            " [0.17386425]\n",
            " [0.03370239]\n",
            " [0.34061506]\n",
            " [0.98190594]\n",
            " [0.9990982 ]\n",
            " [0.02608594]\n",
            " [0.17630605]\n",
            " [0.64388824]\n",
            " [0.9529341 ]\n",
            " [0.08355483]\n",
            " [0.94840854]\n",
            " [0.00935782]\n",
            " [0.1841133 ]\n",
            " [0.08405377]\n",
            " [0.53594214]\n",
            " [0.05202153]\n",
            " [0.09300315]\n",
            " [0.85762537]\n",
            " [0.03229616]\n",
            " [0.47121695]\n",
            " [0.9978849 ]\n",
            " [0.7985007 ]\n",
            " [0.940866  ]\n",
            " [0.9781531 ]\n",
            " [0.9852313 ]\n",
            " [0.10053807]\n",
            " [0.0753893 ]\n",
            " [0.06440857]\n",
            " [0.3290507 ]\n",
            " [0.3650558 ]\n",
            " [0.03831011]\n",
            " [0.01176208]\n",
            " [0.01621372]\n",
            " [0.98612624]\n",
            " [0.9625125 ]\n",
            " [0.02721697]\n",
            " [0.9629034 ]\n",
            " [0.88432765]\n",
            " [0.01629458]\n",
            " [0.9910874 ]\n",
            " [0.95105827]\n",
            " [0.04151362]\n",
            " [0.1204877 ]\n",
            " [0.04365221]\n",
            " [0.99877256]\n",
            " [0.4542648 ]\n",
            " [0.34742677]\n",
            " [0.9169266 ]\n",
            " [0.0577526 ]\n",
            " [0.5219839 ]\n",
            " [0.9992963 ]\n",
            " [0.2560821 ]\n",
            " [0.9992986 ]\n",
            " [0.01705013]\n",
            " [0.04200687]\n",
            " [0.00790067]\n",
            " [0.94761944]\n",
            " [0.05327477]\n",
            " [0.05945436]\n",
            " [0.07368477]\n",
            " [0.97713804]\n",
            " [0.16921225]\n",
            " [0.99372596]\n",
            " [0.95631206]\n",
            " [0.03201946]\n",
            " [0.0887016 ]\n",
            " [0.9941654 ]\n",
            " [0.99915016]\n",
            " [0.99467874]\n",
            " [0.24040942]\n",
            " [0.03039329]\n",
            " [0.43066674]\n",
            " [0.9527719 ]\n",
            " [0.3934427 ]\n",
            " [0.02172284]\n",
            " [0.44813266]\n",
            " [0.92036664]\n",
            " [0.04106255]\n",
            " [0.99668026]\n",
            " [0.02939621]]\n"
          ]
        },
        {
          "output_type": "execute_result",
          "data": {
            "text/plain": [
              "<Axes: >"
            ]
          },
          "metadata": {},
          "execution_count": 22
        },
        {
          "output_type": "display_data",
          "data": {
            "text/plain": [
              "<Figure size 640x480 with 2 Axes>"
            ],
            "image/png": "[encoded data removed]"
          },
          "metadata": {}
        }
      ]
    },
    {
      "cell_type": "code",
      "source": [
        "print(X_test[0:1])\n",
        "print(model.predict(X_test[0:1]))"
      ],
      "metadata": {
        "colab": {
          "base_uri": "https://localhost:8080/"
        },
        "id": "aPDUwKNN_Pv6",
        "outputId": "64d14933-ed67-47cf-c2e4-2903adad93fd"
      },
      "execution_count": null,
      "outputs": [
        {
          "output_type": "stream",
          "name": "stdout",
          "text": [
            "[[0.25978513 0.30064254 0.25775689 0.14354189 0.42448316 0.26507576\n",
            "  0.18755858 0.18991054 0.43686869 0.29001685 0.10305993 0.1511227\n",
            "  0.08198652 0.04387017 0.17812829 0.12661099 0.06820707 0.19643872\n",
            "  0.1398379  0.09297569 0.25044468 0.33635394 0.22730216 0.12109221\n",
            "  0.4717031  0.20423786 0.21333866 0.34879725 0.2856298  0.2129083 ]]\n",
            "1/1 [==============================] - 0s 28ms/step\n",
            "[[0.2452285]]\n"
          ]
        }
      ]
    },
    {
      "cell_type": "code",
      "source": [],
      "metadata": {
        "id": "vtyLHVWFCA48"
      },
      "execution_count": null,
      "outputs": []
    }
  ]
}